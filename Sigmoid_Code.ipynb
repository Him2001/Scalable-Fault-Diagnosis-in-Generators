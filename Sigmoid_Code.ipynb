{
  "nbformat": 4,
  "nbformat_minor": 0,
  "metadata": {
    "colab": {
      "provenance": [],
      "authorship_tag": "ABX9TyOczOuAgPt0mMMxGCcgJyYM",
      "include_colab_link": true
    },
    "kernelspec": {
      "name": "python3",
      "display_name": "Python 3"
    },
    "language_info": {
      "name": "python"
    },
    "accelerator": "GPU",
    "gpuClass": "standard"
  },
  "cells": [
    {
      "cell_type": "markdown",
      "metadata": {
        "id": "view-in-github",
        "colab_type": "text"
      },
      "source": [
        "<a href=\"https://colab.research.google.com/github/Him2001/Scalable-Fault-Diagnosis-in-Generators/blob/main/Sigmoid_Code.ipynb\" target=\"_parent\"><img src=\"https://colab.research.google.com/assets/colab-badge.svg\" alt=\"Open In Colab\"/></a>"
      ]
    },
    {
      "cell_type": "code",
      "execution_count": null,
      "metadata": {
        "colab": {
          "base_uri": "https://localhost:8080/"
        },
        "id": "0KKPFM0bPN8E",
        "outputId": "545aaf82-2964-4087-9487-3378fe0af860"
      },
      "outputs": [
        {
          "output_type": "stream",
          "name": "stdout",
          "text": [
            "Drive already mounted at /content/drive; to attempt to forcibly remount, call drive.mount(\"/content/drive\", force_remount=True).\n"
          ]
        }
      ],
      "source": [
        "from google.colab import drive\n",
        "drive.mount('/content/drive')"
      ]
    },
    {
      "cell_type": "code",
      "source": [
        "%cd /content/drive/MyDrive/FYP"
      ],
      "metadata": {
        "colab": {
          "base_uri": "https://localhost:8080/"
        },
        "id": "6bigTqo3PvFL",
        "outputId": "9d19199b-d478-4ce9-fb6a-8fbe6b0b141f"
      },
      "execution_count": null,
      "outputs": [
        {
          "output_type": "stream",
          "name": "stdout",
          "text": [
            "/content/drive/MyDrive/FYP\n"
          ]
        }
      ]
    },
    {
      "cell_type": "code",
      "source": [
        "!nvidia-smi"
      ],
      "metadata": {
        "colab": {
          "base_uri": "https://localhost:8080/"
        },
        "id": "SsOJYmLdRRoA",
        "outputId": "b918a047-22dc-4f09-a788-f3d5e44abd6f"
      },
      "execution_count": null,
      "outputs": [
        {
          "output_type": "stream",
          "name": "stdout",
          "text": [
            "Sun Mar 26 05:26:11 2023       \n",
            "+-----------------------------------------------------------------------------+\n",
            "| NVIDIA-SMI 525.85.12    Driver Version: 525.85.12    CUDA Version: 12.0     |\n",
            "|-------------------------------+----------------------+----------------------+\n",
            "| GPU  Name        Persistence-M| Bus-Id        Disp.A | Volatile Uncorr. ECC |\n",
            "| Fan  Temp  Perf  Pwr:Usage/Cap|         Memory-Usage | GPU-Util  Compute M. |\n",
            "|                               |                      |               MIG M. |\n",
            "|===============================+======================+======================|\n",
            "|   0  Tesla T4            Off  | 00000000:00:04.0 Off |                    0 |\n",
            "| N/A   38C    P8     9W /  70W |      0MiB / 15360MiB |      0%      Default |\n",
            "|                               |                      |                  N/A |\n",
            "+-------------------------------+----------------------+----------------------+\n",
            "                                                                               \n",
            "+-----------------------------------------------------------------------------+\n",
            "| Processes:                                                                  |\n",
            "|  GPU   GI   CI        PID   Type   Process name                  GPU Memory |\n",
            "|        ID   ID                                                   Usage      |\n",
            "|=============================================================================|\n",
            "|  No running processes found                                                 |\n",
            "+-----------------------------------------------------------------------------+\n"
          ]
        }
      ]
    },
    {
      "cell_type": "code",
      "source": [
        "import numpy as np\n",
        "import tensorflow as tf\n",
        "from tensorflow import keras\n",
        "import glob\n",
        "from tensorflow.keras.layers import Input, Dense\n",
        "from tensorflow.keras import backend as K\n",
        "from keras import regularizers\n",
        "from keras.models import Model,Sequential\n",
        "from tensorflow.keras.losses import BinaryCrossentropy\n",
        "from keras.layers import GaussianNoise\n",
        "import pandas as pd\n",
        "from sklearn.metrics import accuracy_score\n",
        "from keras.utils import to_categorical\n",
        "\n",
        "# define the MMD loss function\n",
        "def mmd_loss(y_true, y_pred, weight=1.0):\n",
        "    # calculate the MMD loss\n",
        "    mmd_loss = K.mean(tf.square(tf.reduce_mean(y_pred, axis=0) - tf.reduce_mean(y_true, axis=0)))\n",
        "\n",
        "    # apply the weight to the MMD loss\n",
        "    mmd_loss = weight * mmd_loss\n",
        "\n",
        "    return mmd_loss\n",
        "\n",
        "# define the binary cross-entropy + MMD loss function\n",
        "def binary_crossentropy_mmd_loss(y_true, y_pred):\n",
        "    # define the binary cross-entropy loss\n",
        "    y_pred = tf.cast(y_pred, tf.float32)\n",
        "    y_true = tf.cast(y_true, tf.float32)\n",
        "    bce_loss = K.binary_crossentropy(y_true, y_pred)\n",
        "\n",
        "    # define the weight for the MMD loss\n",
        "    mmd_weight = 0.1\n",
        "\n",
        "    # calculate the MMD loss\n",
        "    mmd = mmd_loss(y_true, y_pred, weight=mmd_weight)\n",
        "\n",
        "    # combine the losses\n",
        "    loss = bce_loss + mmd\n",
        "\n",
        "    return loss\n",
        "\n"
      ],
      "metadata": {
        "id": "gBgadSQdQF_I"
      },
      "execution_count": null,
      "outputs": []
    },
    {
      "cell_type": "code",
      "source": [
        "df = pd.read_csv(r'3ABCOverlap.csv')\n",
        "X_train = df.drop(['Detection'], axis = 'columns')\n",
        "Y_train = df.Detection\n",
        "del df\n",
        "\n",
        "df1 = pd.read_csv(r'OTest.csv')\n",
        "X_test = df1.drop(['Detection'], axis = 'columns')\n",
        "Y_test = df1.Detection\n",
        "del df1"
      ],
      "metadata": {
        "id": "opQwXWupUtHX"
      },
      "execution_count": null,
      "outputs": []
    },
    {
      "cell_type": "code",
      "source": [
        "def model_evaluate():\n",
        "\n",
        "    input_signal = Input(shape=(3000,))\n",
        "    encoded = Dense(1000, activation='relu', use_bias=True)(input_signal)\n",
        "    encoded = Dense(500, activation='relu', use_bias=True)(encoded)\n",
        "    encoded = Dense(250, activation='relu', use_bias=True,activity_regularizer=regularizers.l1(10e-5))(encoded)\n",
        "    encoded = Dense(125, activation='relu', use_bias=True,activity_regularizer=regularizers.l1(10e-5))(encoded)\n",
        "    bottleneck = Dense(10,activation='relu', use_bias=True)(encoded)\n",
        "\n",
        "    # Define decoder layers\n",
        "    decoded1 = Dense(125,activation='relu',use_bias=True)(bottleneck)\n",
        "    decoded1 = Dense(250,activation='relu',use_bias=True)(decoded1)\n",
        "    decoded1 = Dense(500,activation='relu',use_bias=True)(decoded1)\n",
        "    decoded1 = Dense(1000,activation='relu',use_bias=True)(decoded1)\n",
        "    decoded = Dense(3000,activation='linear',use_bias=True)(decoded1)\n",
        "    autoencoder = Model(input_signal, decoded, name='autoencoder')\n",
        "    # Define autoencoder model\n",
        "    autoencoder.compile(loss='mse',optimizer=keras.optimizers.Adam(),metrics=['accuracy'])\n",
        "    autoencoder.fit(X_train,X_train, epochs = 50,shuffle = True,batch_size = 100,verbose  ='auto')\n",
        "\n",
        "    den = Dense(125, activation='relu',activity_regularizer=regularizers.l1(10e-5))(bottleneck)\n",
        "    # noise = GaussianNoise(0.1)(den)\n",
        "    out = Dense(1, activation='sigmoid')(den)\n",
        "    classification_model = Model(input_signal,out)\n",
        "\n",
        "    for l1,l2 in zip(classification_model.layers[:6],autoencoder.layers[0:6]):\n",
        "        l1.set_weights(l2.get_weights())\n",
        "    for layer in classification_model.layers[0:5]:\n",
        "        layer.trainable = False\n",
        "\n",
        "    classification_model.compile(loss=binary_crossentropy_mmd_loss, optimizer=keras.optimizers.Adam(),metrics=['accuracy'])\n",
        "\n",
        "    classification_model.fit(X_train,Y_train, epochs = 50, shuffle = True,batch_size = 100,verbose  ='auto')\n",
        "\n",
        "    # tf.keras.utils.get_custom_objects()['binary_crossentropy_mmd_loss'] = binary_crossentropy_mmd_loss\n",
        "    # model = tf.keras.models.load_model(r\"C:\\Users\\Anoop\\Desktop\\test1\\errorhighmodel1.h5\", custom_objects={'binary_crossentropy_mmd_loss': binary_crossentropy_mmd_loss})\n",
        "\n",
        "    ls = classification_model.predict(X_test)\n",
        "    rs = []\n",
        "    for i in ls:\n",
        "        if (i >= 0.5):\n",
        "            rs.append(1)\n",
        "        else:\n",
        "            rs.append(0)\n",
        "    return(accuracy_score(Y_test, rs))"
      ],
      "metadata": {
        "id": "CMqJW9V-U1_R"
      },
      "execution_count": null,
      "outputs": []
    },
    {
      "cell_type": "code",
      "source": [
        "a1 = []\n",
        "n = 0\n",
        "while (n<1):\n",
        "    accuracy = model_evaluate()\n",
        "    if accuracy>0.65:\n",
        "        a1.append(accuracy*100)\n",
        "        print(accuracy)\n",
        "        n +=1\n",
        "print(a1)"
      ],
      "metadata": {
        "id": "muHjy9q5U5Ui"
      },
      "execution_count": null,
      "outputs": []
    }
  ]
}