{
  "nbformat": 4,
  "nbformat_minor": 0,
  "metadata": {
    "colab": {
      "provenance": [],
      "authorship_tag": "ABX9TyMU2rMa1tS9mQuYWfSIBzwp",
      "include_colab_link": true
    },
    "kernelspec": {
      "name": "python3",
      "display_name": "Python 3"
    },
    "language_info": {
      "name": "python"
    }
  },
  "cells": [
    {
      "cell_type": "markdown",
      "metadata": {
        "id": "view-in-github",
        "colab_type": "text"
      },
      "source": [
        "<a href=\"https://colab.research.google.com/github/Him2001/Scalable-Fault-Diagnosis-in-Generators/blob/main/ANN.ipynb\" target=\"_parent\"><img src=\"https://colab.research.google.com/assets/colab-badge.svg\" alt=\"Open In Colab\"/></a>"
      ]
    },
    {
      "cell_type": "code",
      "execution_count": null,
      "metadata": {
        "id": "yDMCHnsxWG7a"
      },
      "outputs": [],
      "source": [
        "from google.colab import drive\n",
        "drive.mount('/content/drive', force_remount=True)\n",
        "%cd /content/drive/MyDrive/FYP"
      ]
    },
    {
      "cell_type": "code",
      "source": [
        "import numpy as np\n",
        "import tensorflow as tf\n",
        "from tensorflow import keras\n",
        "import pandas as pd\n",
        "import glob\n",
        "import matplotlib.pyplot as plt\n",
        "from sklearn.preprocessing import LabelEncoder\n",
        "from sklearn.metrics import accuracy_score\n",
        "from tensorflow.keras.layers import Dense\n",
        "\n",
        "df = pd.read_csv(r\"Train.csv\")\n",
        "df= df.astype(np.float32)\n",
        "X_train = df.drop(['Detection'], axis = 'columns')\n",
        "Y_train = df.Detection\n",
        "\n",
        "df1 = pd.read_csv(r\"5Overlap.csv\")\n",
        "df1 = df1.astype(np.float32)\n",
        "X_test = df1.drop(['Detection'], axis = 'columns')\n",
        "Y_test = df1.Detection\n",
        "\n",
        "def model_evaluate():\n",
        "    model = keras.Sequential([\n",
        "        keras.layers.Dense(2000,input_shape = (3000,), activation = 'relu', kernel_initializer = 'ones', bias_initializer = 'zeros')\n",
        "    ])\n",
        "    model.add(Dense(1000, activation='LeakyReLU'))\n",
        "    model.add(Dense(500, activation='LeakyReLU'))\n",
        "    model.add(Dense(10, activation='LeakyReLU'))\n",
        "    model.add(Dense(1, activation='sigmoid'))\n",
        "    model.compile(optimizer = 'adam', loss = 'binary_crossentropy',metrics = ['accuracy'])\n",
        "\n",
        "    model.compile(loss='binary_crossentropy', optimizer=keras.optimizers.Adam(),metrics=['accuracy'])\n",
        "\n",
        "    model.fit(X_train,Y_train, epochs = 50, shuffle = True,batch_size = 300,verbose  ='auto')\n",
        "\n",
        "    ls = model.predict(X_test)\n",
        "    rs = []\n",
        "    for i in ls:\n",
        "        if (i >= 0.5):\n",
        "            rs.append(1)\n",
        "        else:\n",
        "            rs.append(0)\n",
        "    return(accuracy_score(Y_test, rs))\n",
        "\n",
        "a3 = []\n",
        "for i in range (1):\n",
        "    accuracy = model_evaluate()\n",
        "    a3.append(accuracy*100)\n",
        "    print(a3)\n",
        "\n",
        "print(a3)\n"
      ],
      "metadata": {
        "id": "_-x7Qa-KWRFf"
      },
      "execution_count": null,
      "outputs": []
    }
  ]
}