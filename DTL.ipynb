{
  "cells": [
    {
      "cell_type": "markdown",
      "metadata": {
        "id": "view-in-github",
        "colab_type": "text"
      },
      "source": [
        "<a href=\"https://colab.research.google.com/github/Him2001/Scalable-Fault-Diagnosis-in-Generators/blob/main/DTL.ipynb\" target=\"_parent\"><img src=\"https://colab.research.google.com/assets/colab-badge.svg\" alt=\"Open In Colab\"/></a>"
      ]
    },
    {
      "cell_type": "code",
      "execution_count": null,
      "metadata": {
        "colab": {
          "base_uri": "https://localhost:8080/"
        },
        "id": "2NXYzu84AuPu",
        "outputId": "ee529721-bc37-4bd4-8721-6125db572e09"
      },
      "outputs": [
        {
          "output_type": "stream",
          "name": "stdout",
          "text": [
            "Mounted at /content/drive\n"
          ]
        }
      ],
      "source": [
        "from google.colab import drive\n",
        "drive.mount('/content/drive', force_remount=True)\n"
      ]
    },
    {
      "cell_type": "code",
      "execution_count": null,
      "metadata": {
        "colab": {
          "base_uri": "https://localhost:8080/"
        },
        "id": "fRH8gxnKEhuS",
        "outputId": "f67ed10d-158a-43e6-fc23-908b31d35912"
      },
      "outputs": [
        {
          "output_type": "stream",
          "name": "stdout",
          "text": [
            "/content/drive/MyDrive/FYP\n"
          ]
        }
      ],
      "source": [
        "%cd /content/drive/MyDrive/FYP"
      ]
    },
    {
      "cell_type": "code",
      "execution_count": null,
      "metadata": {
        "id": "MIaTVMw6S0_T"
      },
      "outputs": [],
      "source": [
        "import pandas as pd\n",
        "df = pd.read_csv(r\"Train.csv\")\n",
        "X_train = df.drop(['Detection'], axis = 'columns')\n",
        "Y_train = df.Detection\n",
        "del df\n",
        "\n",
        "df1 = pd.read_csv(r\"5Overlap.csv\")\n",
        "X_test = df1.drop(['Detection'], axis = 'columns')\n",
        "Y_test = df1.Detection\n",
        "del df1\n",
        "Y_test = Y_test.astype('float32')\n",
        "X_test = X_test.astype('float32')"
      ]
    },
    {
      "cell_type": "code",
      "execution_count": null,
      "metadata": {
        "id": "lPhljYJYSPai"
      },
      "outputs": [],
      "source": [
        "import numpy as np\n",
        "import tensorflow as tf\n",
        "from tensorflow import keras\n",
        "import glob\n",
        "from tensorflow.keras.layers import Input, Dense\n",
        "from tensorflow.keras import backend as K\n",
        "from keras import regularizers\n",
        "from keras.models import Model,Sequential\n",
        "from tensorflow.keras.losses import BinaryCrossentropy\n",
        "from keras.layers import GaussianNoise\n",
        "import pandas as pd\n",
        "from sklearn.metrics import accuracy_score\n",
        "from keras.utils import to_categorical\n",
        "from sklearn.manifold import TSNE\n",
        "import matplotlib.pyplot as plt\n",
        "\n",
        "# define the MMD loss function\n",
        "def mmd_loss(y_true, y_pred, weight=1.0):\n",
        "    # calculate the MMD loss\n",
        "    mmd_loss = K.mean(tf.square(tf.reduce_mean(y_pred, axis=0) - tf.reduce_mean(y_true, axis=0)))\n",
        "\n",
        "    # apply the weight to the MMD loss\n",
        "    mmd_loss = weight * mmd_loss\n",
        "\n",
        "    return mmd_loss\n",
        "\n",
        "# define the binary cross-entropy + MMD loss function\n",
        "def binary_crossentropy_mmd_loss(y_true, y_pred):\n",
        "    # define the binary cross-entropy loss\n",
        "    y_pred = tf.cast(y_pred, tf.float32)\n",
        "    y_true = tf.cast(y_true, tf.float32)\n",
        "    bce_loss = K.binary_crossentropy(y_true, y_pred)\n",
        "\n",
        "    # define the weight for the MMD loss\n",
        "    mmd_weight = 0.1\n",
        "\n",
        "    # calculate the MMD loss\n",
        "    mmd = mmd_loss(y_true, y_pred, weight=mmd_weight)\n",
        "\n",
        "    # combine the losses\n",
        "    loss = bce_loss + mmd\n",
        "\n",
        "    return loss\n",
        "\n",
        "input_signal = Input(shape=(3000,))\n",
        "encoded = Dense(2000, activation='relu', use_bias=True)(input_signal)\n",
        "encoded = Dense(1000, activation='relu', use_bias=True)(encoded)\n",
        "encoded = Dense(500, activation='relu', use_bias=True,activity_regularizer=regularizers.l1(10e-5))(encoded)\n",
        "encoded = Dense(250, activation='relu', use_bias=True,activity_regularizer=regularizers.l1(10e-5))(encoded)\n",
        "bottleneck = Dense(10,activation='relu', use_bias=True)(encoded)\n",
        "\n",
        "# Define decoder layers\n",
        "decoded1 = Dense(250,activation='relu',use_bias=True)(bottleneck)\n",
        "decoded1 = Dense(500,activation='relu',use_bias=True)(decoded1)\n",
        "decoded1 = Dense(1000,activation='relu',use_bias=True)(decoded1)\n",
        "decoded1 = Dense(2000,activation='relu',use_bias=True)(decoded1)\n",
        "decoded = Dense(3000,activation='linear',use_bias=True)(decoded1)\n",
        "autoencoder = Model(input_signal, decoded, name='autoencoder')\n",
        "# Define autoencoder model\n",
        "autoencoder.compile(loss='mse',optimizer=keras.optimizers.Adam(),metrics=['accuracy'])\n",
        "\n",
        "\n",
        "den = Dense(125, activation='relu',activity_regularizer=regularizers.l1(10e-5))(bottleneck)\n",
        "# noise = GaussianNoise(0.1)(den)\n",
        "out = Dense(1, activation='sigmoid')(den)\n",
        "classification_model = Model(input_signal,out)\n",
        "\n",
        "for l1,l2 in zip(classification_model.layers[:6],autoencoder.layers[0:6]):\n",
        "    l1.set_weights(l2.get_weights())\n",
        "for layer in classification_model.layers[0:5]:\n",
        "    layer.trainable = False\n",
        "\n",
        "classification_model.compile(loss=binary_crossentropy_mmd_loss, optimizer=keras.optimizers.Adam(),metrics=['accuracy'])\n",
        "  # Extract features from input data using the feature extractor\n",
        "X_train = np.array(X_train)\n",
        "X_test= np.array(X_test)"
      ]
    },
    {
      "cell_type": "code",
      "execution_count": null,
      "metadata": {
        "colab": {
          "base_uri": "https://localhost:8080/"
        },
        "id": "moCfW6FyEduq",
        "outputId": "ba6f0df4-f88d-4202-b59d-831cf5dd59b2"
      },
      "outputs": [
        {
          "output_type": "stream",
          "name": "stdout",
          "text": [
            "Epoch 1/20\n",
            "256/256 [==============================] - 11s 11ms/step - loss: 50.2421 - accuracy: 0.0230\n",
            "Epoch 2/20\n",
            "256/256 [==============================] - 3s 11ms/step - loss: 9.5805 - accuracy: 0.1285\n",
            "Epoch 3/20\n",
            "256/256 [==============================] - 3s 11ms/step - loss: 1.1000 - accuracy: 0.2972\n",
            "Epoch 4/20\n",
            "256/256 [==============================] - 3s 12ms/step - loss: 0.3848 - accuracy: 0.3181\n",
            "Epoch 5/20\n",
            "256/256 [==============================] - 3s 11ms/step - loss: 0.7236 - accuracy: 0.3178\n",
            "Epoch 6/20\n",
            "256/256 [==============================] - 3s 11ms/step - loss: 1.2373 - accuracy: 0.3092\n",
            "Epoch 7/20\n",
            "256/256 [==============================] - 3s 11ms/step - loss: 108.0051 - accuracy: 0.0327\n",
            "Epoch 8/20\n",
            "256/256 [==============================] - 3s 11ms/step - loss: 9.8198 - accuracy: 0.1169\n",
            "Epoch 9/20\n",
            "256/256 [==============================] - 3s 12ms/step - loss: 0.1910 - accuracy: 0.2309\n",
            "Epoch 10/20\n",
            "256/256 [==============================] - 3s 11ms/step - loss: 0.0343 - accuracy: 0.2889\n",
            "Epoch 11/20\n",
            "256/256 [==============================] - 3s 11ms/step - loss: 0.0287 - accuracy: 0.3161\n",
            "Epoch 12/20\n",
            "256/256 [==============================] - 3s 11ms/step - loss: 0.0300 - accuracy: 0.3261\n",
            "Epoch 13/20\n",
            "256/256 [==============================] - 3s 11ms/step - loss: 1.2595 - accuracy: 0.3172\n",
            "Epoch 14/20\n",
            "256/256 [==============================] - 3s 12ms/step - loss: 0.1458 - accuracy: 0.3204\n",
            "Epoch 15/20\n",
            "256/256 [==============================] - 3s 11ms/step - loss: 0.1066 - accuracy: 0.3175\n",
            "Epoch 16/20\n",
            "256/256 [==============================] - 3s 11ms/step - loss: 0.0574 - accuracy: 0.3169\n",
            "Epoch 17/20\n",
            "256/256 [==============================] - 3s 11ms/step - loss: 3.5243 - accuracy: 0.3092\n",
            "Epoch 18/20\n",
            "256/256 [==============================] - 3s 12ms/step - loss: 0.7665 - accuracy: 0.3140\n",
            "Epoch 19/20\n",
            "256/256 [==============================] - 3s 11ms/step - loss: 0.0242 - accuracy: 0.3137\n",
            "Epoch 20/20\n",
            "256/256 [==============================] - 3s 11ms/step - loss: 0.0304 - accuracy: 0.3340\n",
            "Epoch 1/20\n",
            "256/256 [==============================] - 3s 6ms/step - loss: 0.3771 - accuracy: 0.8580\n",
            "Epoch 2/20\n",
            "256/256 [==============================] - 1s 5ms/step - loss: 0.1657 - accuracy: 0.9486\n",
            "Epoch 3/20\n",
            "256/256 [==============================] - 1s 5ms/step - loss: 0.1588 - accuracy: 0.9486\n",
            "Epoch 4/20\n",
            "256/256 [==============================] - 1s 5ms/step - loss: 0.1580 - accuracy: 0.9486\n",
            "Epoch 5/20\n",
            "256/256 [==============================] - 1s 5ms/step - loss: 0.1577 - accuracy: 0.9486\n",
            "Epoch 6/20\n",
            "256/256 [==============================] - 2s 7ms/step - loss: 0.1576 - accuracy: 0.9486\n",
            "Epoch 7/20\n",
            "256/256 [==============================] - 2s 7ms/step - loss: 0.1572 - accuracy: 0.9486\n",
            "Epoch 8/20\n",
            "256/256 [==============================] - 1s 6ms/step - loss: 0.1575 - accuracy: 0.9486\n",
            "Epoch 9/20\n",
            "256/256 [==============================] - 1s 5ms/step - loss: 0.1570 - accuracy: 0.9486\n",
            "Epoch 10/20\n",
            "256/256 [==============================] - 1s 5ms/step - loss: 0.1563 - accuracy: 0.9486\n",
            "Epoch 11/20\n",
            "256/256 [==============================] - 1s 5ms/step - loss: 0.1558 - accuracy: 0.9486\n",
            "Epoch 12/20\n",
            "256/256 [==============================] - 1s 5ms/step - loss: 0.1556 - accuracy: 0.9486\n",
            "Epoch 13/20\n",
            "256/256 [==============================] - 1s 5ms/step - loss: 0.1550 - accuracy: 0.9486\n",
            "Epoch 14/20\n",
            "256/256 [==============================] - 1s 5ms/step - loss: 0.1546 - accuracy: 0.9486\n",
            "Epoch 15/20\n",
            "256/256 [==============================] - 2s 6ms/step - loss: 0.1542 - accuracy: 0.9486\n",
            "Epoch 16/20\n",
            "256/256 [==============================] - 2s 7ms/step - loss: 0.1538 - accuracy: 0.9486\n",
            "Epoch 17/20\n",
            "256/256 [==============================] - 2s 6ms/step - loss: 0.1541 - accuracy: 0.9486\n",
            "Epoch 18/20\n",
            "256/256 [==============================] - 1s 5ms/step - loss: 0.1535 - accuracy: 0.9486\n",
            "Epoch 19/20\n",
            "256/256 [==============================] - 1s 5ms/step - loss: 0.1528 - accuracy: 0.9486\n",
            "Epoch 20/20\n",
            "256/256 [==============================] - 1s 5ms/step - loss: 0.1521 - accuracy: 0.9486\n"
          ]
        },
        {
          "output_type": "execute_result",
          "data": {
            "text/plain": [
              "<keras.callbacks.History at 0x7f728301cfa0>"
            ]
          },
          "metadata": {},
          "execution_count": 5
        }
      ],
      "source": [
        "\n",
        "autoencoder.fit(X_train,X_train, epochs = 20,shuffle = True,batch_size = 200,verbose  ='auto')\n",
        "classification_model.fit(X_train,Y_train, epochs = 20, shuffle = True,batch_size = 200,verbose  ='auto')\n"
      ]
    },
    {
      "cell_type": "code",
      "execution_count": null,
      "metadata": {
        "id": "jtNA3Wr6EhGn"
      },
      "outputs": [],
      "source": [
        "\n",
        "x = classification_model.layers[1](X_train)\n",
        "x = classification_model.layers[2](x)\n",
        "x = classification_model.layers[3](x)\n",
        "x = classification_model.layers[4](x)\n",
        "X_train_features = classification_model.layers[5](x).numpy()\n",
        "\n",
        "y = classification_model.layers[1](X_test)\n",
        "y = classification_model.layers[2](y)\n",
        "y = classification_model.layers[3](y)\n",
        "y = classification_model.layers[4](y)\n",
        "X_test_features = classification_model.layers[5](y).numpy()\n",
        "\n",
        "# Apply t-SNE to the extracted features\n",
        "tsne = TSNE(n_components=2, random_state=0)\n",
        "X_train_tsne = tsne.fit_transform(X_train_features)\n",
        "X_test_tsne = tsne.fit_transform(X_test_features)\n"
      ]
    },
    {
      "cell_type": "code",
      "execution_count": null,
      "metadata": {
        "id": "yIjsSmGHEvNk",
        "colab": {
          "base_uri": "https://localhost:8080/",
          "height": 435
        },
        "outputId": "ba016ddb-e1a7-4597-b6bd-c4e5cb1b6309"
      },
      "outputs": [
        {
          "output_type": "display_data",
          "data": {
            "text/plain": [
              "<Figure size 640x480 with 1 Axes>"
            ],
            "image/png": "[encoded data removed]"
          },
          "metadata": {}
        }
      ],
      "source": [
        "plt.scatter(X_train_tsne[:, 0], X_train_tsne[:, 1], c=Y_train, cmap='coolwarm', marker='o')\n",
        "plt.scatter(X_test_tsne[:, 0], X_test_tsne[:, 1], c=Y_test, cmap='viridis', marker='s')\n",
        "plt.xlim(-400, 400)\n",
        "plt.ylim(-200, 200)\n",
        "plt.show()\n",
        "\n",
        "\n"
      ]
    },
    {
      "cell_type": "code",
      "execution_count": null,
      "metadata": {
        "id": "YgF2rchW1EAp",
        "colab": {
          "base_uri": "https://localhost:8080/"
        },
        "outputId": "0628dc52-2ae4-4ace-c8a2-dc76ae84840e"
      },
      "outputs": [
        {
          "output_type": "stream",
          "name": "stdout",
          "text": [
            "1281/1281 [==============================] - 2s 2ms/step\n",
            "80.6791569086651\n"
          ]
        }
      ],
      "source": [
        "\n",
        "ls = classification_model.predict(X_test)\n",
        "rs = []\n",
        "for i in ls:\n",
        "    if (i >= 0.5):\n",
        "        rs.append(1)\n",
        "    else:\n",
        "        rs.append(0)\n",
        "j = accuracy_score(Y_test, rs)*100\n",
        "print(j)"
      ]
    }
  ],
  "metadata": {
    "accelerator": "GPU",
    "colab": {
      "machine_shape": "hm",
      "provenance": [],
      "include_colab_link": true
    },
    "gpuClass": "standard",
    "kernelspec": {
      "display_name": "Python 3",
      "name": "python3"
    },
    "language_info": {
      "name": "python"
    }
  },
  "nbformat": 4,
  "nbformat_minor": 0
}